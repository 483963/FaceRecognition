{
 "cells": [
  {
   "cell_type": "code",
   "execution_count": 1,
   "metadata": {},
   "outputs": [],
   "source": [
    "#Importing the necessary modules\n",
    "import tensorflow as tf\n",
    "from keras.applications.vgg16 import VGG16 #VGG16 pretrained on ImageNet will be imported\n",
    "from keras.models import Model\n",
    "from keras.preprocessing import image\n",
    "from keras.layers import Input, Lambda ,Dense ,Flatten , Dropout , GlobalAveragePooling2D"
   ]
  },
  {
   "cell_type": "code",
   "execution_count": 2,
   "metadata": {},
   "outputs": [
    {
     "name": "stdout",
     "output_type": "stream",
     "text": [
      "Model: \"vgg16\"\n",
      "_________________________________________________________________\n",
      "Layer (type)                 Output Shape              Param #   \n",
      "=================================================================\n",
      "input_1 (InputLayer)         [(None, 224, 224, 3)]     0         \n",
      "_________________________________________________________________\n",
      "block1_conv1 (Conv2D)        (None, 224, 224, 64)      1792      \n",
      "_________________________________________________________________\n",
      "block1_conv2 (Conv2D)        (None, 224, 224, 64)      36928     \n",
      "_________________________________________________________________\n",
      "block1_pool (MaxPooling2D)   (None, 112, 112, 64)      0         \n",
      "_________________________________________________________________\n",
      "block2_conv1 (Conv2D)        (None, 112, 112, 128)     73856     \n",
      "_________________________________________________________________\n",
      "block2_conv2 (Conv2D)        (None, 112, 112, 128)     147584    \n",
      "_________________________________________________________________\n",
      "block2_pool (MaxPooling2D)   (None, 56, 56, 128)       0         \n",
      "_________________________________________________________________\n",
      "block3_conv1 (Conv2D)        (None, 56, 56, 256)       295168    \n",
      "_________________________________________________________________\n",
      "block3_conv2 (Conv2D)        (None, 56, 56, 256)       590080    \n",
      "_________________________________________________________________\n",
      "block3_conv3 (Conv2D)        (None, 56, 56, 256)       590080    \n",
      "_________________________________________________________________\n",
      "block3_pool (MaxPooling2D)   (None, 28, 28, 256)       0         \n",
      "_________________________________________________________________\n",
      "block4_conv1 (Conv2D)        (None, 28, 28, 512)       1180160   \n",
      "_________________________________________________________________\n",
      "block4_conv2 (Conv2D)        (None, 28, 28, 512)       2359808   \n",
      "_________________________________________________________________\n",
      "block4_conv3 (Conv2D)        (None, 28, 28, 512)       2359808   \n",
      "_________________________________________________________________\n",
      "block4_pool (MaxPooling2D)   (None, 14, 14, 512)       0         \n",
      "_________________________________________________________________\n",
      "block5_conv1 (Conv2D)        (None, 14, 14, 512)       2359808   \n",
      "_________________________________________________________________\n",
      "block5_conv2 (Conv2D)        (None, 14, 14, 512)       2359808   \n",
      "_________________________________________________________________\n",
      "block5_conv3 (Conv2D)        (None, 14, 14, 512)       2359808   \n",
      "_________________________________________________________________\n",
      "block5_pool (MaxPooling2D)   (None, 7, 7, 512)         0         \n",
      "=================================================================\n",
      "Total params: 14,714,688\n",
      "Trainable params: 0\n",
      "Non-trainable params: 14,714,688\n",
      "_________________________________________________________________\n"
     ]
    }
   ],
   "source": [
    "#vgg 16 model\n",
    "classifier_vgg16 = VGG16(input_shape= (224,224,3),include_top=False,weights='imagenet') #initiate model with 224x224x3 input size\n",
    "#not train top layers\n",
    "for layer in classifier_vgg16.layers:\n",
    "    layer.trainable = False #freeze the top layers\n",
    "classifier_vgg16.summary() #print summary"
   ]
  },
  {
   "cell_type": "code",
   "execution_count": 3,
   "metadata": {},
   "outputs": [],
   "source": [
    "# #not train top layers\n",
    "# for layer in classifier_vgg16.layers:\n",
    "#     layer.trainable = False"
   ]
  },
  {
   "cell_type": "code",
   "execution_count": 3,
   "metadata": {},
   "outputs": [],
   "source": [
    "#adding extra layers for our classes (15 in our case)\n",
    "main_model = classifier_vgg16.output #get output from VGG-16\n",
    "main_model = GlobalAveragePooling2D()(main_model) #Add global average pooling layer\n",
    "main_model = Dense(512,activation='relu')(main_model) #add 512 neurons fully connected layer \n",
    "main_model = Dense(256,activation='relu')(main_model) #add 256 neurons fully connected layer \n",
    "main_model = Dropout(0.5)(main_model) #dropout to reduce overfitting\n",
    "main_model = Dense(15,activation='softmax')(main_model) #final layer with 15 neurons to reconnize the subjects"
   ]
  },
  {
   "cell_type": "code",
   "execution_count": 4,
   "metadata": {},
   "outputs": [
    {
     "name": "stdout",
     "output_type": "stream",
     "text": [
      "Model: \"model\"\n",
      "_________________________________________________________________\n",
      "Layer (type)                 Output Shape              Param #   \n",
      "=================================================================\n",
      "input_1 (InputLayer)         [(None, 224, 224, 3)]     0         \n",
      "_________________________________________________________________\n",
      "block1_conv1 (Conv2D)        (None, 224, 224, 64)      1792      \n",
      "_________________________________________________________________\n",
      "block1_conv2 (Conv2D)        (None, 224, 224, 64)      36928     \n",
      "_________________________________________________________________\n",
      "block1_pool (MaxPooling2D)   (None, 112, 112, 64)      0         \n",
      "_________________________________________________________________\n",
      "block2_conv1 (Conv2D)        (None, 112, 112, 128)     73856     \n",
      "_________________________________________________________________\n",
      "block2_conv2 (Conv2D)        (None, 112, 112, 128)     147584    \n",
      "_________________________________________________________________\n",
      "block2_pool (MaxPooling2D)   (None, 56, 56, 128)       0         \n",
      "_________________________________________________________________\n",
      "block3_conv1 (Conv2D)        (None, 56, 56, 256)       295168    \n",
      "_________________________________________________________________\n",
      "block3_conv2 (Conv2D)        (None, 56, 56, 256)       590080    \n",
      "_________________________________________________________________\n",
      "block3_conv3 (Conv2D)        (None, 56, 56, 256)       590080    \n",
      "_________________________________________________________________\n",
      "block3_pool (MaxPooling2D)   (None, 28, 28, 256)       0         \n",
      "_________________________________________________________________\n",
      "block4_conv1 (Conv2D)        (None, 28, 28, 512)       1180160   \n",
      "_________________________________________________________________\n",
      "block4_conv2 (Conv2D)        (None, 28, 28, 512)       2359808   \n",
      "_________________________________________________________________\n",
      "block4_conv3 (Conv2D)        (None, 28, 28, 512)       2359808   \n",
      "_________________________________________________________________\n",
      "block4_pool (MaxPooling2D)   (None, 14, 14, 512)       0         \n",
      "_________________________________________________________________\n",
      "block5_conv1 (Conv2D)        (None, 14, 14, 512)       2359808   \n",
      "_________________________________________________________________\n",
      "block5_conv2 (Conv2D)        (None, 14, 14, 512)       2359808   \n",
      "_________________________________________________________________\n",
      "block5_conv3 (Conv2D)        (None, 14, 14, 512)       2359808   \n",
      "_________________________________________________________________\n",
      "block5_pool (MaxPooling2D)   (None, 7, 7, 512)         0         \n",
      "_________________________________________________________________\n",
      "global_average_pooling2d (Gl (None, 512)               0         \n",
      "_________________________________________________________________\n",
      "dense (Dense)                (None, 512)               262656    \n",
      "_________________________________________________________________\n",
      "dense_1 (Dense)              (None, 256)               131328    \n",
      "_________________________________________________________________\n",
      "dropout (Dropout)            (None, 256)               0         \n",
      "_________________________________________________________________\n",
      "dense_2 (Dense)              (None, 15)                3855      \n",
      "=================================================================\n",
      "Total params: 15,112,527\n",
      "Trainable params: 397,839\n",
      "Non-trainable params: 14,714,688\n",
      "_________________________________________________________________\n"
     ]
    }
   ],
   "source": [
    "#compiling\n",
    "model = Model(inputs = classifier_vgg16.input , outputs = main_model) #define model\n",
    "model.summary() #print summary\n",
    "model.compile(optimizer='adam', loss='categorical_crossentropy', metrics=['accuracy']) #compile with ADAM and Categorical Cross Entropy"
   ]
  },
  {
   "cell_type": "code",
   "execution_count": 5,
   "metadata": {},
   "outputs": [],
   "source": [
    "# Part 2 - Fitting the CNN to the images\n",
    "from tensorflow.keras.preprocessing.image import ImageDataGenerator #generate batches of images for training and testing\n",
    "\n",
    "#use the image data generator to import the images from the dataset\n",
    "#data augmentation\n",
    "train_datagen = ImageDataGenerator(rescale=1./255,\n",
    "                                   rotation_range=20,\n",
    "                                   width_shift_range=0.2,\n",
    "                                   height_shift_range=0.2,\n",
    "                                   horizontal_flip=True,\n",
    "                                   fill_mode='nearest')\n",
    "\n",
    "test_datagen = ImageDataGenerator(rescale=1. / 255)"
   ]
  },
  {
   "cell_type": "code",
   "execution_count": 6,
   "metadata": {},
   "outputs": [
    {
     "name": "stdout",
     "output_type": "stream",
     "text": [
      "Found 120 images belonging to 15 classes.\n",
      "Found 45 images belonging to 15 classes.\n"
     ]
    }
   ],
   "source": [
    "#setting the train and testing images paths\n",
    "train_path = 'C://Users//user//Desktop//Infento//Project 3. Face Recognition//dataset_cnn//train//' \n",
    "test_path = 'C://Users//user//Desktop//Infento//Project 3. Face Recognition//dataset_cnn//test//'\n",
    "training_set = train_datagen.flow_from_directory(train_path,\n",
    "                                                 target_size=(224, 224),\n",
    "                                                 batch_size=2,\n",
    "                                                 class_mode='categorical')\n",
    "\n",
    "test_set = test_datagen.flow_from_directory(test_path,\n",
    "                                            target_size=(224, 224),\n",
    "                                            batch_size=2,\n",
    "                                            class_mode='categorical',\n",
    "                                            shuffle=False)"
   ]
  },
  {
   "cell_type": "code",
   "execution_count": 10,
   "metadata": {},
   "outputs": [
    {
     "name": "stdout",
     "output_type": "stream",
     "text": [
      "Epoch 1/50\n",
      "60/60 [==============================] - 61s 1s/step - loss: 2.5834 - accuracy: 0.2167 - val_loss: 2.3876 - val_accuracy: 0.2955\n",
      "Epoch 2/50\n",
      "60/60 [==============================] - 58s 963ms/step - loss: 2.4406 - accuracy: 0.2583 - val_loss: 2.2220 - val_accuracy: 0.4318\n",
      "Epoch 3/50\n",
      "60/60 [==============================] - 55s 929ms/step - loss: 2.2484 - accuracy: 0.2583 - val_loss: 1.9392 - val_accuracy: 0.4318\n",
      "Epoch 4/50\n",
      "60/60 [==============================] - 53s 890ms/step - loss: 1.9865 - accuracy: 0.3667 - val_loss: 1.6735 - val_accuracy: 0.3864\n",
      "Epoch 5/50\n",
      "60/60 [==============================] - 53s 880ms/step - loss: 1.8884 - accuracy: 0.4000 - val_loss: 1.6784 - val_accuracy: 0.4091\n",
      "Epoch 6/50\n",
      "60/60 [==============================] - 55s 928ms/step - loss: 1.7060 - accuracy: 0.4167 - val_loss: 1.3417 - val_accuracy: 0.6818\n",
      "Epoch 7/50\n",
      "60/60 [==============================] - 55s 920ms/step - loss: 1.5564 - accuracy: 0.5000 - val_loss: 1.2060 - val_accuracy: 0.7727\n",
      "Epoch 8/50\n",
      "60/60 [==============================] - 53s 881ms/step - loss: 1.4420 - accuracy: 0.5000 - val_loss: 1.0720 - val_accuracy: 0.6364\n",
      "Epoch 9/50\n",
      "60/60 [==============================] - 53s 881ms/step - loss: 1.2735 - accuracy: 0.5667 - val_loss: 0.9832 - val_accuracy: 0.7273\n",
      "Epoch 10/50\n",
      "60/60 [==============================] - 62s 1s/step - loss: 1.1462 - accuracy: 0.6583 - val_loss: 0.8323 - val_accuracy: 0.8182\n",
      "Epoch 11/50\n",
      "60/60 [==============================] - 57s 952ms/step - loss: 1.0381 - accuracy: 0.6750 - val_loss: 0.8723 - val_accuracy: 0.7727\n",
      "Epoch 12/50\n",
      "60/60 [==============================] - 57s 950ms/step - loss: 1.0109 - accuracy: 0.6833 - val_loss: 0.8653 - val_accuracy: 0.6591\n",
      "Epoch 13/50\n",
      "60/60 [==============================] - 58s 977ms/step - loss: 0.9933 - accuracy: 0.6833 - val_loss: 0.7029 - val_accuracy: 0.8409\n",
      "Epoch 14/50\n",
      "60/60 [==============================] - 57s 949ms/step - loss: 0.9255 - accuracy: 0.7250 - val_loss: 0.6783 - val_accuracy: 0.8636\n",
      "Epoch 15/50\n",
      "60/60 [==============================] - 56s 934ms/step - loss: 0.8005 - accuracy: 0.7000 - val_loss: 0.7833 - val_accuracy: 0.7727\n",
      "Epoch 16/50\n",
      "60/60 [==============================] - 66s 1s/step - loss: 0.7587 - accuracy: 0.7833 - val_loss: 0.6326 - val_accuracy: 0.8409\n",
      "Epoch 17/50\n",
      "60/60 [==============================] - 61s 1s/step - loss: 0.7063 - accuracy: 0.8083 - val_loss: 0.4464 - val_accuracy: 0.9091\n",
      "Epoch 18/50\n",
      "60/60 [==============================] - 69s 1s/step - loss: 0.5740 - accuracy: 0.8167 - val_loss: 0.4479 - val_accuracy: 0.8636\n",
      "Epoch 19/50\n",
      "60/60 [==============================] - 58s 975ms/step - loss: 0.5835 - accuracy: 0.8000 - val_loss: 0.5419 - val_accuracy: 0.8182\n",
      "Epoch 20/50\n",
      "60/60 [==============================] - 67s 1s/step - loss: 0.6264 - accuracy: 0.7667 - val_loss: 0.8219 - val_accuracy: 0.7045\n",
      "Epoch 21/50\n",
      "60/60 [==============================] - 91s 2s/step - loss: 0.5140 - accuracy: 0.8333 - val_loss: 0.6320 - val_accuracy: 0.7500\n",
      "Epoch 22/50\n",
      "60/60 [==============================] - 103s 2s/step - loss: 0.4901 - accuracy: 0.8417 - val_loss: 0.5441 - val_accuracy: 0.8409\n",
      "Epoch 23/50\n",
      "60/60 [==============================] - 82s 1s/step - loss: 0.5596 - accuracy: 0.8250 - val_loss: 0.4851 - val_accuracy: 0.9091\n",
      "Epoch 24/50\n",
      "60/60 [==============================] - 73s 1s/step - loss: 0.4950 - accuracy: 0.8667 - val_loss: 0.5488 - val_accuracy: 0.8409\n",
      "Epoch 25/50\n",
      "60/60 [==============================] - 72s 1s/step - loss: 0.4185 - accuracy: 0.8667 - val_loss: 0.3970 - val_accuracy: 0.8864\n",
      "Epoch 26/50\n",
      "60/60 [==============================] - 75s 1s/step - loss: 0.5016 - accuracy: 0.8750 - val_loss: 0.5232 - val_accuracy: 0.8182\n",
      "Epoch 27/50\n",
      "60/60 [==============================] - 77s 1s/step - loss: 0.5393 - accuracy: 0.8333 - val_loss: 0.3948 - val_accuracy: 0.8864\n",
      "Epoch 28/50\n",
      "60/60 [==============================] - 75s 1s/step - loss: 0.3572 - accuracy: 0.8833 - val_loss: 0.3979 - val_accuracy: 0.8409\n",
      "Epoch 29/50\n",
      "60/60 [==============================] - 84s 1s/step - loss: 0.3450 - accuracy: 0.9083 - val_loss: 0.6087 - val_accuracy: 0.8409\n",
      "Epoch 30/50\n",
      "60/60 [==============================] - 71s 1s/step - loss: 0.4230 - accuracy: 0.8333 - val_loss: 0.4453 - val_accuracy: 0.8182\n",
      "Epoch 31/50\n",
      "60/60 [==============================] - 79s 1s/step - loss: 0.3736 - accuracy: 0.8750 - val_loss: 0.4109 - val_accuracy: 0.8864\n",
      "Epoch 32/50\n",
      "60/60 [==============================] - 74s 1s/step - loss: 0.3548 - accuracy: 0.8917 - val_loss: 0.3760 - val_accuracy: 0.8636\n",
      "Epoch 33/50\n",
      "60/60 [==============================] - 74s 1s/step - loss: 0.4151 - accuracy: 0.8500 - val_loss: 0.4998 - val_accuracy: 0.8636\n",
      "Epoch 34/50\n",
      "60/60 [==============================] - 79s 1s/step - loss: 0.3085 - accuracy: 0.9000 - val_loss: 0.4698 - val_accuracy: 0.8182\n",
      "Epoch 35/50\n",
      "60/60 [==============================] - 83s 1s/step - loss: 0.3806 - accuracy: 0.8667 - val_loss: 0.5863 - val_accuracy: 0.7955\n",
      "Epoch 36/50\n",
      "60/60 [==============================] - 79s 1s/step - loss: 0.3316 - accuracy: 0.9000 - val_loss: 0.3702 - val_accuracy: 0.9091\n",
      "Epoch 37/50\n",
      "60/60 [==============================] - 75s 1s/step - loss: 0.2454 - accuracy: 0.9333 - val_loss: 0.2497 - val_accuracy: 0.9318\n",
      "Epoch 38/50\n",
      "60/60 [==============================] - 78s 1s/step - loss: 0.2078 - accuracy: 0.9500 - val_loss: 0.3509 - val_accuracy: 0.8636\n",
      "Epoch 39/50\n",
      "60/60 [==============================] - 76s 1s/step - loss: 0.2398 - accuracy: 0.9500 - val_loss: 0.5679 - val_accuracy: 0.8182\n",
      "Epoch 40/50\n",
      "60/60 [==============================] - 77s 1s/step - loss: 0.2461 - accuracy: 0.9417 - val_loss: 0.3358 - val_accuracy: 0.9091\n",
      "Epoch 41/50\n",
      "60/60 [==============================] - 87s 1s/step - loss: 0.2350 - accuracy: 0.9333 - val_loss: 0.2162 - val_accuracy: 0.9318\n",
      "Epoch 42/50\n",
      "60/60 [==============================] - 92s 2s/step - loss: 0.2103 - accuracy: 0.9250 - val_loss: 0.3881 - val_accuracy: 0.8636\n",
      "Epoch 43/50\n",
      "60/60 [==============================] - 100s 2s/step - loss: 0.2212 - accuracy: 0.9417 - val_loss: 0.2036 - val_accuracy: 0.9318\n",
      "Epoch 44/50\n",
      "60/60 [==============================] - 83s 1s/step - loss: 0.2926 - accuracy: 0.9083 - val_loss: 0.2837 - val_accuracy: 0.9091\n",
      "Epoch 45/50\n",
      "60/60 [==============================] - 82s 1s/step - loss: 0.1570 - accuracy: 0.9583 - val_loss: 0.3223 - val_accuracy: 0.8864\n",
      "Epoch 46/50\n",
      "60/60 [==============================] - 78s 1s/step - loss: 0.2594 - accuracy: 0.9167 - val_loss: 0.4339 - val_accuracy: 0.8636\n",
      "Epoch 47/50\n",
      "60/60 [==============================] - 75s 1s/step - loss: 0.1631 - accuracy: 0.9500 - val_loss: 0.3299 - val_accuracy: 0.9318\n",
      "Epoch 48/50\n",
      "60/60 [==============================] - 75s 1s/step - loss: 0.1807 - accuracy: 0.9500 - val_loss: 0.3393 - val_accuracy: 0.8864\n",
      "Epoch 49/50\n",
      "60/60 [==============================] - 77s 1s/step - loss: 0.1301 - accuracy: 0.9667 - val_loss: 0.3928 - val_accuracy: 0.8864\n",
      "Epoch 50/50\n",
      "60/60 [==============================] - 75s 1s/step - loss: 0.3491 - accuracy: 0.8667 - val_loss: 0.6547 - val_accuracy: 0.7955\n"
     ]
    }
   ],
   "source": [
    "#fit the model\n",
    "#it will take some time to train\n",
    "nb_train_samples=120\n",
    "nb_validation_samples=45\n",
    "batch_size=2\n",
    "steps_per_epoch = len(training_set)//batch_size #num of epochs\n",
    "\n",
    "#fit the model\n",
    "history = model.fit(training_set,\n",
    "                              validation_data=test_set,\n",
    "                              epochs=50,\n",
    "                              steps_per_epoch=nb_train_samples // batch_size,\n",
    "                              validation_steps=nb_validation_samples // batch_size)"
   ]
  },
  {
   "cell_type": "code",
   "execution_count": null,
   "metadata": {},
   "outputs": [],
   "source": []
  },
  {
   "cell_type": "code",
   "execution_count": 11,
   "metadata": {},
   "outputs": [
    {
     "data": {
      "image/png": "[encoded data removed]",
      "text/plain": [
       "<Figure size 432x288 with 1 Axes>"
      ]
     },
     "metadata": {
      "needs_background": "light"
     },
     "output_type": "display_data"
    },
    {
     "data": {
      "image/png": "[encoded data removed]",
      "text/plain": [
       "<Figure size 432x288 with 1 Axes>"
      ]
     },
     "metadata": {
      "needs_background": "light"
     },
     "output_type": "display_data"
    }
   ],
   "source": [
    "#PLOTTING accuracy\n",
    "import matplotlib.pyplot as plt\n",
    "plt.plot(history.history['accuracy'] , label = 'train acc')\n",
    "plt.plot(history.history['val_accuracy'] , label = 'val acc')\n",
    "plt.legend()\n",
    "plt.show()\n",
    "\n",
    "#PLOTTING loss\n",
    "import matplotlib.pyplot as plt\n",
    "plt.plot(history.history['loss'] , label = 'train loss')\n",
    "plt.plot(history.history['val_loss'] , label = 'val loss')\n",
    "plt.legend()\n",
    "plt.show()"
   ]
  },
  {
   "cell_type": "code",
   "execution_count": null,
   "metadata": {},
   "outputs": [],
   "source": []
  }
 ],
 "metadata": {
  "kernelspec": {
   "display_name": "Python 3",
   "language": "python",
   "name": "python3"
  },
  "language_info": {
   "codemirror_mode": {
    "name": "ipython",
    "version": 3
   },
   "file_extension": ".py",
   "mimetype": "text/x-python",
   "name": "python",
   "nbconvert_exporter": "python",
   "pygments_lexer": "ipython3",
   "version": "3.9.4"
  }
 },
 "nbformat": 4,
 "nbformat_minor": 2
}
